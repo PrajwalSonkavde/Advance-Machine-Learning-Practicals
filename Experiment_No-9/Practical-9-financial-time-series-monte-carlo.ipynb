{
 "cells": [
  {
   "cell_type": "markdown",
   "metadata": {
    "_uuid": "5fdb67b8c30b7fdd0593e89cf289d88f6316f61f"
   },
   "source": [
    "**IN THIS KERNEL, I WILL TRY TO EXAMINE A FINANCIAL TIME SERIES AND DO SOME MODELING**"
   ]
  },
  {
   "cell_type": "code",
   "execution_count": 1,
   "metadata": {
    "_cell_guid": "b1076dfc-b9ad-4769-8c92-a6c4dae69d19",
    "_uuid": "8f2839f25d086af736a60e9eeb907d3b93b6e0e5"
   },
   "outputs": [],
   "source": [
    "# This Python 3 environment comes with many helpful analytics libraries installed\n",
    "# It is defined by the kaggle/python docker image: https://github.com/kaggle/docker-python\n",
    "# For example, here's several helpful packages to load in \n",
    "\n",
    "import numpy as np # linear algebra\n",
    "import pandas as pd # data processing, CSV file I/O (e.g. pd.read_csv)\n",
    "\n",
    "# Input data files are available in the \"../input/\" directory.\n",
    "# For example, running this (by clicking run or pressing Shift+Enter) will list the files in the input directory\n",
    "\n",
    "import os\n",
    "# Any results you write to the current directory are saved as output."
   ]
  },
  {
   "cell_type": "code",
   "execution_count": 2,
   "metadata": {
    "_cell_guid": "79c7e3d0-c299-4dcb-8224-4455121ee9b0",
    "_uuid": "d629ff2d2480ee46fbb7e2d37f6b5fab8052498a"
   },
   "outputs": [],
   "source": [
    "data =pd.read_csv(\"all_stocks_5yr.csv\")"
   ]
  },
  {
   "cell_type": "code",
   "execution_count": 3,
   "metadata": {
    "_uuid": "0aec4cabc1879bb27326e11bba924cf7de01e159"
   },
   "outputs": [
    {
     "data": {
      "text/html": [
       "<div>\n",
       "<style scoped>\n",
       "    .dataframe tbody tr th:only-of-type {\n",
       "        vertical-align: middle;\n",
       "    }\n",
       "\n",
       "    .dataframe tbody tr th {\n",
       "        vertical-align: top;\n",
       "    }\n",
       "\n",
       "    .dataframe thead th {\n",
       "        text-align: right;\n",
       "    }\n",
       "</style>\n",
       "<table border=\"1\" class=\"dataframe\">\n",
       "  <thead>\n",
       "    <tr style=\"text-align: right;\">\n",
       "      <th></th>\n",
       "      <th>date</th>\n",
       "      <th>open</th>\n",
       "      <th>high</th>\n",
       "      <th>low</th>\n",
       "      <th>close</th>\n",
       "      <th>volume</th>\n",
       "      <th>Name</th>\n",
       "    </tr>\n",
       "  </thead>\n",
       "  <tbody>\n",
       "    <tr>\n",
       "      <th>0</th>\n",
       "      <td>2013-02-08</td>\n",
       "      <td>15.07</td>\n",
       "      <td>15.12</td>\n",
       "      <td>14.63</td>\n",
       "      <td>14.75</td>\n",
       "      <td>8407500</td>\n",
       "      <td>AAL</td>\n",
       "    </tr>\n",
       "    <tr>\n",
       "      <th>1</th>\n",
       "      <td>2013-02-11</td>\n",
       "      <td>14.89</td>\n",
       "      <td>15.01</td>\n",
       "      <td>14.26</td>\n",
       "      <td>14.46</td>\n",
       "      <td>8882000</td>\n",
       "      <td>AAL</td>\n",
       "    </tr>\n",
       "    <tr>\n",
       "      <th>2</th>\n",
       "      <td>2013-02-12</td>\n",
       "      <td>14.45</td>\n",
       "      <td>14.51</td>\n",
       "      <td>14.10</td>\n",
       "      <td>14.27</td>\n",
       "      <td>8126000</td>\n",
       "      <td>AAL</td>\n",
       "    </tr>\n",
       "    <tr>\n",
       "      <th>3</th>\n",
       "      <td>2013-02-13</td>\n",
       "      <td>14.30</td>\n",
       "      <td>14.94</td>\n",
       "      <td>14.25</td>\n",
       "      <td>14.66</td>\n",
       "      <td>10259500</td>\n",
       "      <td>AAL</td>\n",
       "    </tr>\n",
       "    <tr>\n",
       "      <th>4</th>\n",
       "      <td>2013-02-14</td>\n",
       "      <td>14.94</td>\n",
       "      <td>14.96</td>\n",
       "      <td>13.16</td>\n",
       "      <td>13.99</td>\n",
       "      <td>31879900</td>\n",
       "      <td>AAL</td>\n",
       "    </tr>\n",
       "  </tbody>\n",
       "</table>\n",
       "</div>"
      ],
      "text/plain": [
       "         date   open   high    low  close    volume Name\n",
       "0  2013-02-08  15.07  15.12  14.63  14.75   8407500  AAL\n",
       "1  2013-02-11  14.89  15.01  14.26  14.46   8882000  AAL\n",
       "2  2013-02-12  14.45  14.51  14.10  14.27   8126000  AAL\n",
       "3  2013-02-13  14.30  14.94  14.25  14.66  10259500  AAL\n",
       "4  2013-02-14  14.94  14.96  13.16  13.99  31879900  AAL"
      ]
     },
     "execution_count": 3,
     "metadata": {},
     "output_type": "execute_result"
    }
   ],
   "source": [
    "data.head()"
   ]
  },
  {
   "cell_type": "code",
   "execution_count": 4,
   "metadata": {
    "_uuid": "bbdf52da5e55a564370e19065a267ea3b95ca844"
   },
   "outputs": [
    {
     "data": {
      "text/html": [
       "<div>\n",
       "<style scoped>\n",
       "    .dataframe tbody tr th:only-of-type {\n",
       "        vertical-align: middle;\n",
       "    }\n",
       "\n",
       "    .dataframe tbody tr th {\n",
       "        vertical-align: top;\n",
       "    }\n",
       "\n",
       "    .dataframe thead th {\n",
       "        text-align: right;\n",
       "    }\n",
       "</style>\n",
       "<table border=\"1\" class=\"dataframe\">\n",
       "  <thead>\n",
       "    <tr style=\"text-align: right;\">\n",
       "      <th></th>\n",
       "      <th>date</th>\n",
       "      <th>open</th>\n",
       "      <th>high</th>\n",
       "      <th>low</th>\n",
       "      <th>close</th>\n",
       "      <th>volume</th>\n",
       "      <th>Name</th>\n",
       "    </tr>\n",
       "  </thead>\n",
       "  <tbody>\n",
       "    <tr>\n",
       "      <th>619035</th>\n",
       "      <td>2018-02-01</td>\n",
       "      <td>76.84</td>\n",
       "      <td>78.27</td>\n",
       "      <td>76.69</td>\n",
       "      <td>77.82</td>\n",
       "      <td>2982259</td>\n",
       "      <td>ZTS</td>\n",
       "    </tr>\n",
       "    <tr>\n",
       "      <th>619036</th>\n",
       "      <td>2018-02-02</td>\n",
       "      <td>77.53</td>\n",
       "      <td>78.12</td>\n",
       "      <td>76.73</td>\n",
       "      <td>76.78</td>\n",
       "      <td>2595187</td>\n",
       "      <td>ZTS</td>\n",
       "    </tr>\n",
       "    <tr>\n",
       "      <th>619037</th>\n",
       "      <td>2018-02-05</td>\n",
       "      <td>76.64</td>\n",
       "      <td>76.92</td>\n",
       "      <td>73.18</td>\n",
       "      <td>73.83</td>\n",
       "      <td>2962031</td>\n",
       "      <td>ZTS</td>\n",
       "    </tr>\n",
       "    <tr>\n",
       "      <th>619038</th>\n",
       "      <td>2018-02-06</td>\n",
       "      <td>72.74</td>\n",
       "      <td>74.56</td>\n",
       "      <td>72.13</td>\n",
       "      <td>73.27</td>\n",
       "      <td>4924323</td>\n",
       "      <td>ZTS</td>\n",
       "    </tr>\n",
       "    <tr>\n",
       "      <th>619039</th>\n",
       "      <td>2018-02-07</td>\n",
       "      <td>72.70</td>\n",
       "      <td>75.00</td>\n",
       "      <td>72.69</td>\n",
       "      <td>73.86</td>\n",
       "      <td>4534912</td>\n",
       "      <td>ZTS</td>\n",
       "    </tr>\n",
       "  </tbody>\n",
       "</table>\n",
       "</div>"
      ],
      "text/plain": [
       "              date   open   high    low  close   volume Name\n",
       "619035  2018-02-01  76.84  78.27  76.69  77.82  2982259  ZTS\n",
       "619036  2018-02-02  77.53  78.12  76.73  76.78  2595187  ZTS\n",
       "619037  2018-02-05  76.64  76.92  73.18  73.83  2962031  ZTS\n",
       "619038  2018-02-06  72.74  74.56  72.13  73.27  4924323  ZTS\n",
       "619039  2018-02-07  72.70  75.00  72.69  73.86  4534912  ZTS"
      ]
     },
     "execution_count": 4,
     "metadata": {},
     "output_type": "execute_result"
    }
   ],
   "source": [
    "data.tail()"
   ]
  },
  {
   "cell_type": "code",
   "execution_count": 5,
   "metadata": {
    "_uuid": "94337a92d90d7074f790318729163d59ec642043"
   },
   "outputs": [],
   "source": [
    "#I just picked the first stock\n",
    "data = data[data.Name == 'AAL']"
   ]
  },
  {
   "cell_type": "code",
   "execution_count": 6,
   "metadata": {
    "_uuid": "e4419107429aca55f87e1fe044e8ed31576a1147"
   },
   "outputs": [
    {
     "data": {
      "text/html": [
       "<div>\n",
       "<style scoped>\n",
       "    .dataframe tbody tr th:only-of-type {\n",
       "        vertical-align: middle;\n",
       "    }\n",
       "\n",
       "    .dataframe tbody tr th {\n",
       "        vertical-align: top;\n",
       "    }\n",
       "\n",
       "    .dataframe thead th {\n",
       "        text-align: right;\n",
       "    }\n",
       "</style>\n",
       "<table border=\"1\" class=\"dataframe\">\n",
       "  <thead>\n",
       "    <tr style=\"text-align: right;\">\n",
       "      <th></th>\n",
       "      <th>date</th>\n",
       "      <th>open</th>\n",
       "      <th>high</th>\n",
       "      <th>low</th>\n",
       "      <th>close</th>\n",
       "      <th>volume</th>\n",
       "      <th>Name</th>\n",
       "    </tr>\n",
       "  </thead>\n",
       "  <tbody>\n",
       "    <tr>\n",
       "      <th>1254</th>\n",
       "      <td>2018-02-01</td>\n",
       "      <td>54.00</td>\n",
       "      <td>54.64</td>\n",
       "      <td>53.59</td>\n",
       "      <td>53.88</td>\n",
       "      <td>3623078</td>\n",
       "      <td>AAL</td>\n",
       "    </tr>\n",
       "    <tr>\n",
       "      <th>1255</th>\n",
       "      <td>2018-02-02</td>\n",
       "      <td>53.49</td>\n",
       "      <td>53.99</td>\n",
       "      <td>52.03</td>\n",
       "      <td>52.10</td>\n",
       "      <td>5109361</td>\n",
       "      <td>AAL</td>\n",
       "    </tr>\n",
       "    <tr>\n",
       "      <th>1256</th>\n",
       "      <td>2018-02-05</td>\n",
       "      <td>51.99</td>\n",
       "      <td>52.39</td>\n",
       "      <td>49.75</td>\n",
       "      <td>49.76</td>\n",
       "      <td>6878284</td>\n",
       "      <td>AAL</td>\n",
       "    </tr>\n",
       "    <tr>\n",
       "      <th>1257</th>\n",
       "      <td>2018-02-06</td>\n",
       "      <td>49.32</td>\n",
       "      <td>51.50</td>\n",
       "      <td>48.79</td>\n",
       "      <td>51.18</td>\n",
       "      <td>6782480</td>\n",
       "      <td>AAL</td>\n",
       "    </tr>\n",
       "    <tr>\n",
       "      <th>1258</th>\n",
       "      <td>2018-02-07</td>\n",
       "      <td>50.91</td>\n",
       "      <td>51.98</td>\n",
       "      <td>50.89</td>\n",
       "      <td>51.40</td>\n",
       "      <td>4845831</td>\n",
       "      <td>AAL</td>\n",
       "    </tr>\n",
       "  </tbody>\n",
       "</table>\n",
       "</div>"
      ],
      "text/plain": [
       "            date   open   high    low  close   volume Name\n",
       "1254  2018-02-01  54.00  54.64  53.59  53.88  3623078  AAL\n",
       "1255  2018-02-02  53.49  53.99  52.03  52.10  5109361  AAL\n",
       "1256  2018-02-05  51.99  52.39  49.75  49.76  6878284  AAL\n",
       "1257  2018-02-06  49.32  51.50  48.79  51.18  6782480  AAL\n",
       "1258  2018-02-07  50.91  51.98  50.89  51.40  4845831  AAL"
      ]
     },
     "execution_count": 6,
     "metadata": {},
     "output_type": "execute_result"
    }
   ],
   "source": [
    "data.tail()"
   ]
  },
  {
   "cell_type": "markdown",
   "metadata": {
    "_uuid": "930656a3c3351cc25d95a53984b29676eed6bbdb"
   },
   "source": [
    "Let's first use monte carlo simulation for forecasting "
   ]
  },
  {
   "cell_type": "code",
   "execution_count": 7,
   "metadata": {
    "_uuid": "6db236bd42934338ff380ca9c6bcf7cfdb31d5e2"
   },
   "outputs": [],
   "source": [
    "from scipy.stats import norm\n",
    "log_returns = np.log(1 + data.close.pct_change())\n",
    "u = log_returns.mean() #Mean of the logarithmich return\n",
    "var = log_returns.var() #Variance of the logarithic return\n",
    "drift = u - (0.5 * var) #drift / trend of the logarithmic return\n",
    "stdev = log_returns.std() #Standard deviation of the log return\n",
    "\n",
    "\n",
    "t_intervals = 250 #I just wanted to forecast 250 time points\n",
    "iterations = 10 #I wanted to have 10 different forecast\n",
    "\n",
    "daily_returns = np.exp(drift + stdev * norm.ppf(np.random.rand(t_intervals, iterations)))\n",
    "#daily_returns actually is some kind of a noise. When we multiply this with the t time price, we can obtain t+1 time price"
   ]
  },
  {
   "cell_type": "markdown",
   "metadata": {
    "_uuid": "14adb2b246458c4d6ab567b71b2259864de557de"
   },
   "source": [
    "Let's create a variable S0 (inital stock price) equals to the last  closing price ."
   ]
  },
  {
   "cell_type": "code",
   "execution_count": 8,
   "metadata": {
    "_uuid": "e28354b0f69be60926248044c66a3b696051b4b5"
   },
   "outputs": [
    {
     "data": {
      "text/plain": [
       "51.4"
      ]
     },
     "execution_count": 8,
     "metadata": {},
     "output_type": "execute_result"
    }
   ],
   "source": [
    "S0 = data.close.iloc[-1]\n",
    "S0"
   ]
  },
  {
   "cell_type": "code",
   "execution_count": 9,
   "metadata": {
    "_uuid": "7afc4607e76e2fc69eb75b43c7478f9afebfe639"
   },
   "outputs": [
    {
     "data": {
      "text/plain": [
       "array([[51.4, 51.4, 51.4, ..., 51.4, 51.4, 51.4],\n",
       "       [ 0. ,  0. ,  0. , ...,  0. ,  0. ,  0. ],\n",
       "       [ 0. ,  0. ,  0. , ...,  0. ,  0. ,  0. ],\n",
       "       ...,\n",
       "       [ 0. ,  0. ,  0. , ...,  0. ,  0. ,  0. ],\n",
       "       [ 0. ,  0. ,  0. , ...,  0. ,  0. ,  0. ],\n",
       "       [ 0. ,  0. ,  0. , ...,  0. ,  0. ,  0. ]])"
      ]
     },
     "execution_count": 9,
     "metadata": {},
     "output_type": "execute_result"
    }
   ],
   "source": [
    "#Let us first create en empty matrix such as daily returns\n",
    "price_list = np.zeros_like(daily_returns)\n",
    "price_list[0] = S0\n",
    "price_list"
   ]
  },
  {
   "cell_type": "code",
   "execution_count": 10,
   "metadata": {
    "_uuid": "96db99d8aed4ed9bedc377b5e8df930b7fd174c0"
   },
   "outputs": [
    {
     "data": {
      "text/html": [
       "<div>\n",
       "<style scoped>\n",
       "    .dataframe tbody tr th:only-of-type {\n",
       "        vertical-align: middle;\n",
       "    }\n",
       "\n",
       "    .dataframe tbody tr th {\n",
       "        vertical-align: top;\n",
       "    }\n",
       "\n",
       "    .dataframe thead th {\n",
       "        text-align: right;\n",
       "    }\n",
       "</style>\n",
       "<table border=\"1\" class=\"dataframe\">\n",
       "  <thead>\n",
       "    <tr style=\"text-align: right;\">\n",
       "      <th></th>\n",
       "      <th>0</th>\n",
       "      <th>1</th>\n",
       "      <th>2</th>\n",
       "      <th>3</th>\n",
       "      <th>4</th>\n",
       "      <th>5</th>\n",
       "      <th>6</th>\n",
       "      <th>7</th>\n",
       "      <th>8</th>\n",
       "      <th>9</th>\n",
       "      <th>close</th>\n",
       "    </tr>\n",
       "  </thead>\n",
       "  <tbody>\n",
       "    <tr>\n",
       "      <th>0</th>\n",
       "      <td>51.400000</td>\n",
       "      <td>51.400000</td>\n",
       "      <td>51.400000</td>\n",
       "      <td>51.400000</td>\n",
       "      <td>51.400000</td>\n",
       "      <td>51.400000</td>\n",
       "      <td>51.400000</td>\n",
       "      <td>51.400000</td>\n",
       "      <td>51.400000</td>\n",
       "      <td>51.400000</td>\n",
       "      <td>51.400000</td>\n",
       "    </tr>\n",
       "    <tr>\n",
       "      <th>1</th>\n",
       "      <td>51.038332</td>\n",
       "      <td>51.541460</td>\n",
       "      <td>49.232365</td>\n",
       "      <td>53.746391</td>\n",
       "      <td>50.610686</td>\n",
       "      <td>51.171210</td>\n",
       "      <td>51.037134</td>\n",
       "      <td>53.059261</td>\n",
       "      <td>51.567733</td>\n",
       "      <td>53.104551</td>\n",
       "      <td>51.038332</td>\n",
       "    </tr>\n",
       "    <tr>\n",
       "      <th>2</th>\n",
       "      <td>50.227755</td>\n",
       "      <td>51.959544</td>\n",
       "      <td>47.473644</td>\n",
       "      <td>52.355842</td>\n",
       "      <td>51.321033</td>\n",
       "      <td>51.104223</td>\n",
       "      <td>51.314270</td>\n",
       "      <td>51.667649</td>\n",
       "      <td>50.636995</td>\n",
       "      <td>51.449610</td>\n",
       "      <td>50.227755</td>\n",
       "    </tr>\n",
       "    <tr>\n",
       "      <th>3</th>\n",
       "      <td>50.396775</td>\n",
       "      <td>50.221518</td>\n",
       "      <td>46.599004</td>\n",
       "      <td>53.507159</td>\n",
       "      <td>53.787295</td>\n",
       "      <td>51.366238</td>\n",
       "      <td>51.437216</td>\n",
       "      <td>51.125169</td>\n",
       "      <td>49.585597</td>\n",
       "      <td>49.888185</td>\n",
       "      <td>50.396775</td>\n",
       "    </tr>\n",
       "    <tr>\n",
       "      <th>4</th>\n",
       "      <td>51.352519</td>\n",
       "      <td>49.083421</td>\n",
       "      <td>46.696144</td>\n",
       "      <td>52.397940</td>\n",
       "      <td>52.345956</td>\n",
       "      <td>51.240844</td>\n",
       "      <td>53.244767</td>\n",
       "      <td>52.162658</td>\n",
       "      <td>47.853980</td>\n",
       "      <td>48.254014</td>\n",
       "      <td>51.352519</td>\n",
       "    </tr>\n",
       "  </tbody>\n",
       "</table>\n",
       "</div>"
      ],
      "text/plain": [
       "           0          1          2          3          4          5  \\\n",
       "0  51.400000  51.400000  51.400000  51.400000  51.400000  51.400000   \n",
       "1  51.038332  51.541460  49.232365  53.746391  50.610686  51.171210   \n",
       "2  50.227755  51.959544  47.473644  52.355842  51.321033  51.104223   \n",
       "3  50.396775  50.221518  46.599004  53.507159  53.787295  51.366238   \n",
       "4  51.352519  49.083421  46.696144  52.397940  52.345956  51.240844   \n",
       "\n",
       "           6          7          8          9      close  \n",
       "0  51.400000  51.400000  51.400000  51.400000  51.400000  \n",
       "1  51.037134  53.059261  51.567733  53.104551  51.038332  \n",
       "2  51.314270  51.667649  50.636995  51.449610  50.227755  \n",
       "3  51.437216  51.125169  49.585597  49.888185  50.396775  \n",
       "4  53.244767  52.162658  47.853980  48.254014  51.352519  "
      ]
     },
     "execution_count": 10,
     "metadata": {},
     "output_type": "execute_result"
    }
   ],
   "source": [
    "# With a simple for loop, we are going to forecast the next 250 days\n",
    "for t in range(1, t_intervals):\n",
    "    price_list[t] = price_list[t - 1] * daily_returns[t]\n",
    "price_list = pd.DataFrame(price_list)\n",
    "price_list['close'] = price_list[0]\n",
    "price_list.head()"
   ]
  },
  {
   "cell_type": "code",
   "execution_count": 11,
   "metadata": {
    "_uuid": "5a36592996f48d9e187dc3eb64abaa2ce556256a"
   },
   "outputs": [],
   "source": [
    "close = data.close\n",
    "close = pd.DataFrame(close)\n",
    "frames = [close, price_list]\n",
    "monte_carlo_forecast = pd.concat(frames)"
   ]
  },
  {
   "cell_type": "code",
   "execution_count": 12,
   "metadata": {
    "_uuid": "96f9d4692d38b3853027e89cd62c8da2fd03c364"
   },
   "outputs": [
    {
     "data": {
      "text/html": [
       "<div>\n",
       "<style scoped>\n",
       "    .dataframe tbody tr th:only-of-type {\n",
       "        vertical-align: middle;\n",
       "    }\n",
       "\n",
       "    .dataframe tbody tr th {\n",
       "        vertical-align: top;\n",
       "    }\n",
       "\n",
       "    .dataframe thead th {\n",
       "        text-align: right;\n",
       "    }\n",
       "</style>\n",
       "<table border=\"1\" class=\"dataframe\">\n",
       "  <thead>\n",
       "    <tr style=\"text-align: right;\">\n",
       "      <th></th>\n",
       "      <th>close</th>\n",
       "      <th>0</th>\n",
       "      <th>1</th>\n",
       "      <th>2</th>\n",
       "      <th>3</th>\n",
       "      <th>4</th>\n",
       "      <th>5</th>\n",
       "      <th>6</th>\n",
       "      <th>7</th>\n",
       "      <th>8</th>\n",
       "      <th>9</th>\n",
       "    </tr>\n",
       "  </thead>\n",
       "  <tbody>\n",
       "    <tr>\n",
       "      <th>0</th>\n",
       "      <td>14.75</td>\n",
       "      <td>NaN</td>\n",
       "      <td>NaN</td>\n",
       "      <td>NaN</td>\n",
       "      <td>NaN</td>\n",
       "      <td>NaN</td>\n",
       "      <td>NaN</td>\n",
       "      <td>NaN</td>\n",
       "      <td>NaN</td>\n",
       "      <td>NaN</td>\n",
       "      <td>NaN</td>\n",
       "    </tr>\n",
       "    <tr>\n",
       "      <th>1</th>\n",
       "      <td>14.46</td>\n",
       "      <td>NaN</td>\n",
       "      <td>NaN</td>\n",
       "      <td>NaN</td>\n",
       "      <td>NaN</td>\n",
       "      <td>NaN</td>\n",
       "      <td>NaN</td>\n",
       "      <td>NaN</td>\n",
       "      <td>NaN</td>\n",
       "      <td>NaN</td>\n",
       "      <td>NaN</td>\n",
       "    </tr>\n",
       "    <tr>\n",
       "      <th>2</th>\n",
       "      <td>14.27</td>\n",
       "      <td>NaN</td>\n",
       "      <td>NaN</td>\n",
       "      <td>NaN</td>\n",
       "      <td>NaN</td>\n",
       "      <td>NaN</td>\n",
       "      <td>NaN</td>\n",
       "      <td>NaN</td>\n",
       "      <td>NaN</td>\n",
       "      <td>NaN</td>\n",
       "      <td>NaN</td>\n",
       "    </tr>\n",
       "    <tr>\n",
       "      <th>3</th>\n",
       "      <td>14.66</td>\n",
       "      <td>NaN</td>\n",
       "      <td>NaN</td>\n",
       "      <td>NaN</td>\n",
       "      <td>NaN</td>\n",
       "      <td>NaN</td>\n",
       "      <td>NaN</td>\n",
       "      <td>NaN</td>\n",
       "      <td>NaN</td>\n",
       "      <td>NaN</td>\n",
       "      <td>NaN</td>\n",
       "    </tr>\n",
       "    <tr>\n",
       "      <th>4</th>\n",
       "      <td>13.99</td>\n",
       "      <td>NaN</td>\n",
       "      <td>NaN</td>\n",
       "      <td>NaN</td>\n",
       "      <td>NaN</td>\n",
       "      <td>NaN</td>\n",
       "      <td>NaN</td>\n",
       "      <td>NaN</td>\n",
       "      <td>NaN</td>\n",
       "      <td>NaN</td>\n",
       "      <td>NaN</td>\n",
       "    </tr>\n",
       "  </tbody>\n",
       "</table>\n",
       "</div>"
      ],
      "text/plain": [
       "   close   0   1   2   3   4   5   6   7   8   9\n",
       "0  14.75 NaN NaN NaN NaN NaN NaN NaN NaN NaN NaN\n",
       "1  14.46 NaN NaN NaN NaN NaN NaN NaN NaN NaN NaN\n",
       "2  14.27 NaN NaN NaN NaN NaN NaN NaN NaN NaN NaN\n",
       "3  14.66 NaN NaN NaN NaN NaN NaN NaN NaN NaN NaN\n",
       "4  13.99 NaN NaN NaN NaN NaN NaN NaN NaN NaN NaN"
      ]
     },
     "execution_count": 12,
     "metadata": {},
     "output_type": "execute_result"
    }
   ],
   "source": [
    "monte_carlo_forecast.head()"
   ]
  },
  {
   "cell_type": "code",
   "execution_count": 13,
   "metadata": {
    "_uuid": "150cd83ce64e78314fabd915097a361c41447d3f"
   },
   "outputs": [
    {
     "data": {
      "text/html": [
       "<div>\n",
       "<style scoped>\n",
       "    .dataframe tbody tr th:only-of-type {\n",
       "        vertical-align: middle;\n",
       "    }\n",
       "\n",
       "    .dataframe tbody tr th {\n",
       "        vertical-align: top;\n",
       "    }\n",
       "\n",
       "    .dataframe thead th {\n",
       "        text-align: right;\n",
       "    }\n",
       "</style>\n",
       "<table border=\"1\" class=\"dataframe\">\n",
       "  <thead>\n",
       "    <tr style=\"text-align: right;\">\n",
       "      <th></th>\n",
       "      <th>close</th>\n",
       "      <th>0</th>\n",
       "      <th>1</th>\n",
       "      <th>2</th>\n",
       "      <th>3</th>\n",
       "      <th>4</th>\n",
       "      <th>5</th>\n",
       "      <th>6</th>\n",
       "      <th>7</th>\n",
       "      <th>8</th>\n",
       "      <th>9</th>\n",
       "    </tr>\n",
       "  </thead>\n",
       "  <tbody>\n",
       "    <tr>\n",
       "      <th>245</th>\n",
       "      <td>76.068852</td>\n",
       "      <td>76.068852</td>\n",
       "      <td>36.231035</td>\n",
       "      <td>70.015312</td>\n",
       "      <td>41.325353</td>\n",
       "      <td>39.400131</td>\n",
       "      <td>101.515532</td>\n",
       "      <td>59.337724</td>\n",
       "      <td>64.072003</td>\n",
       "      <td>80.195020</td>\n",
       "      <td>79.411274</td>\n",
       "    </tr>\n",
       "    <tr>\n",
       "      <th>246</th>\n",
       "      <td>76.524835</td>\n",
       "      <td>76.524835</td>\n",
       "      <td>37.241630</td>\n",
       "      <td>71.148633</td>\n",
       "      <td>41.690503</td>\n",
       "      <td>40.741037</td>\n",
       "      <td>99.385777</td>\n",
       "      <td>58.878297</td>\n",
       "      <td>63.070002</td>\n",
       "      <td>78.934266</td>\n",
       "      <td>79.801580</td>\n",
       "    </tr>\n",
       "    <tr>\n",
       "      <th>247</th>\n",
       "      <td>76.690099</td>\n",
       "      <td>76.690099</td>\n",
       "      <td>38.629426</td>\n",
       "      <td>71.456110</td>\n",
       "      <td>41.954618</td>\n",
       "      <td>40.401751</td>\n",
       "      <td>100.108015</td>\n",
       "      <td>59.599808</td>\n",
       "      <td>65.622484</td>\n",
       "      <td>78.258226</td>\n",
       "      <td>78.511203</td>\n",
       "    </tr>\n",
       "    <tr>\n",
       "      <th>248</th>\n",
       "      <td>75.306887</td>\n",
       "      <td>75.306887</td>\n",
       "      <td>38.655290</td>\n",
       "      <td>71.905171</td>\n",
       "      <td>40.212756</td>\n",
       "      <td>38.450309</td>\n",
       "      <td>99.632468</td>\n",
       "      <td>61.472316</td>\n",
       "      <td>64.362023</td>\n",
       "      <td>78.149429</td>\n",
       "      <td>76.808505</td>\n",
       "    </tr>\n",
       "    <tr>\n",
       "      <th>249</th>\n",
       "      <td>75.887222</td>\n",
       "      <td>75.887222</td>\n",
       "      <td>38.018405</td>\n",
       "      <td>70.568491</td>\n",
       "      <td>39.863560</td>\n",
       "      <td>38.251536</td>\n",
       "      <td>96.482700</td>\n",
       "      <td>60.508485</td>\n",
       "      <td>63.684272</td>\n",
       "      <td>76.925682</td>\n",
       "      <td>74.057413</td>\n",
       "    </tr>\n",
       "  </tbody>\n",
       "</table>\n",
       "</div>"
      ],
      "text/plain": [
       "         close          0          1          2          3          4  \\\n",
       "245  76.068852  76.068852  36.231035  70.015312  41.325353  39.400131   \n",
       "246  76.524835  76.524835  37.241630  71.148633  41.690503  40.741037   \n",
       "247  76.690099  76.690099  38.629426  71.456110  41.954618  40.401751   \n",
       "248  75.306887  75.306887  38.655290  71.905171  40.212756  38.450309   \n",
       "249  75.887222  75.887222  38.018405  70.568491  39.863560  38.251536   \n",
       "\n",
       "              5          6          7          8          9  \n",
       "245  101.515532  59.337724  64.072003  80.195020  79.411274  \n",
       "246   99.385777  58.878297  63.070002  78.934266  79.801580  \n",
       "247  100.108015  59.599808  65.622484  78.258226  78.511203  \n",
       "248   99.632468  61.472316  64.362023  78.149429  76.808505  \n",
       "249   96.482700  60.508485  63.684272  76.925682  74.057413  "
      ]
     },
     "execution_count": 13,
     "metadata": {},
     "output_type": "execute_result"
    }
   ],
   "source": [
    "monte_carlo_forecast.tail()"
   ]
  },
  {
   "cell_type": "code",
   "execution_count": 14,
   "metadata": {
    "_uuid": "2d1f674a53e1e27f81bb039de6e4ff12b1e5d0c1"
   },
   "outputs": [
    {
     "data": {
      "image/png": "[encoded data removed]",
      "text/plain": [
       "<Figure size 1700x800 with 1 Axes>"
      ]
     },
     "metadata": {},
     "output_type": "display_data"
    }
   ],
   "source": [
    "monte_carlo = monte_carlo_forecast.iloc[:,:].values\n",
    "import matplotlib.pyplot as plt\n",
    "plt.figure(figsize=(17,8))\n",
    "plt.plot(monte_carlo)\n",
    "plt.show()"
   ]
  },
  {
   "cell_type": "code",
   "execution_count": null,
   "metadata": {
    "_uuid": "550da74d4025214d3b54e3cb1280b315d0d8ee9b"
   },
   "outputs": [],
   "source": []
  }
 ],
 "metadata": {
  "kernelspec": {
   "display_name": "Python 3 (ipykernel)",
   "language": "python",
   "name": "python3"
  },
  "language_info": {
   "codemirror_mode": {
    "name": "ipython",
    "version": 3
   },
   "file_extension": ".py",
   "mimetype": "text/x-python",
   "name": "python",
   "nbconvert_exporter": "python",
   "pygments_lexer": "ipython3",
   "version": "3.10.9"
  }
 },
 "nbformat": 4,
 "nbformat_minor": 4
}
