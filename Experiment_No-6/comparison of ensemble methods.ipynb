{
 "cells": [
  {
   "cell_type": "markdown",
   "id": "daee8490",
   "metadata": {},
   "source": [
    "# Libraries"
   ]
  },
  {
   "cell_type": "code",
   "execution_count": 1,
   "id": "3ac05dbc",
   "metadata": {},
   "outputs": [],
   "source": [
    "import pandas as pd\n",
    "import matplotlib.pyplot as plt\n",
    "import seaborn as sns\n",
    "import numpy as np"
   ]
  },
  {
   "cell_type": "code",
   "execution_count": 2,
   "id": "46b34aaa",
   "metadata": {},
   "outputs": [],
   "source": [
    "df=pd.read_csv('heartDisease.csv')"
   ]
  },
  {
   "cell_type": "markdown",
   "id": "b23bb126",
   "metadata": {},
   "source": [
    "# EDA"
   ]
  },
  {
   "cell_type": "code",
   "execution_count": 3,
   "id": "2bf272bc",
   "metadata": {},
   "outputs": [
    {
     "data": {
      "text/html": [
       "<div>\n",
       "<style scoped>\n",
       "    .dataframe tbody tr th:only-of-type {\n",
       "        vertical-align: middle;\n",
       "    }\n",
       "\n",
       "    .dataframe tbody tr th {\n",
       "        vertical-align: top;\n",
       "    }\n",
       "\n",
       "    .dataframe thead th {\n",
       "        text-align: right;\n",
       "    }\n",
       "</style>\n",
       "<table border=\"1\" class=\"dataframe\">\n",
       "  <thead>\n",
       "    <tr style=\"text-align: right;\">\n",
       "      <th></th>\n",
       "      <th>age</th>\n",
       "      <th>sex</th>\n",
       "      <th>cp</th>\n",
       "      <th>trestbps</th>\n",
       "      <th>chol</th>\n",
       "      <th>fbs</th>\n",
       "      <th>restecg</th>\n",
       "      <th>thalach</th>\n",
       "      <th>exang</th>\n",
       "      <th>oldpeak</th>\n",
       "      <th>slope</th>\n",
       "      <th>ca</th>\n",
       "      <th>thal</th>\n",
       "      <th>target</th>\n",
       "    </tr>\n",
       "  </thead>\n",
       "  <tbody>\n",
       "    <tr>\n",
       "      <th>0</th>\n",
       "      <td>63</td>\n",
       "      <td>1</td>\n",
       "      <td>3</td>\n",
       "      <td>145</td>\n",
       "      <td>233</td>\n",
       "      <td>1</td>\n",
       "      <td>0</td>\n",
       "      <td>150</td>\n",
       "      <td>0</td>\n",
       "      <td>2.3</td>\n",
       "      <td>0</td>\n",
       "      <td>0</td>\n",
       "      <td>1</td>\n",
       "      <td>1</td>\n",
       "    </tr>\n",
       "    <tr>\n",
       "      <th>1</th>\n",
       "      <td>37</td>\n",
       "      <td>1</td>\n",
       "      <td>2</td>\n",
       "      <td>130</td>\n",
       "      <td>250</td>\n",
       "      <td>0</td>\n",
       "      <td>1</td>\n",
       "      <td>187</td>\n",
       "      <td>0</td>\n",
       "      <td>3.5</td>\n",
       "      <td>0</td>\n",
       "      <td>0</td>\n",
       "      <td>2</td>\n",
       "      <td>1</td>\n",
       "    </tr>\n",
       "    <tr>\n",
       "      <th>2</th>\n",
       "      <td>41</td>\n",
       "      <td>0</td>\n",
       "      <td>1</td>\n",
       "      <td>130</td>\n",
       "      <td>204</td>\n",
       "      <td>0</td>\n",
       "      <td>0</td>\n",
       "      <td>172</td>\n",
       "      <td>0</td>\n",
       "      <td>1.4</td>\n",
       "      <td>2</td>\n",
       "      <td>0</td>\n",
       "      <td>2</td>\n",
       "      <td>1</td>\n",
       "    </tr>\n",
       "    <tr>\n",
       "      <th>3</th>\n",
       "      <td>56</td>\n",
       "      <td>1</td>\n",
       "      <td>1</td>\n",
       "      <td>120</td>\n",
       "      <td>236</td>\n",
       "      <td>0</td>\n",
       "      <td>1</td>\n",
       "      <td>178</td>\n",
       "      <td>0</td>\n",
       "      <td>0.8</td>\n",
       "      <td>2</td>\n",
       "      <td>0</td>\n",
       "      <td>2</td>\n",
       "      <td>1</td>\n",
       "    </tr>\n",
       "    <tr>\n",
       "      <th>4</th>\n",
       "      <td>57</td>\n",
       "      <td>0</td>\n",
       "      <td>0</td>\n",
       "      <td>120</td>\n",
       "      <td>354</td>\n",
       "      <td>0</td>\n",
       "      <td>1</td>\n",
       "      <td>163</td>\n",
       "      <td>1</td>\n",
       "      <td>0.6</td>\n",
       "      <td>2</td>\n",
       "      <td>0</td>\n",
       "      <td>2</td>\n",
       "      <td>1</td>\n",
       "    </tr>\n",
       "  </tbody>\n",
       "</table>\n",
       "</div>"
      ],
      "text/plain": [
       "   age  sex  cp  trestbps  chol  fbs  restecg  thalach  exang  oldpeak  slope  \\\n",
       "0   63    1   3       145   233    1        0      150      0      2.3      0   \n",
       "1   37    1   2       130   250    0        1      187      0      3.5      0   \n",
       "2   41    0   1       130   204    0        0      172      0      1.4      2   \n",
       "3   56    1   1       120   236    0        1      178      0      0.8      2   \n",
       "4   57    0   0       120   354    0        1      163      1      0.6      2   \n",
       "\n",
       "   ca  thal  target  \n",
       "0   0     1       1  \n",
       "1   0     2       1  \n",
       "2   0     2       1  \n",
       "3   0     2       1  \n",
       "4   0     2       1  "
      ]
     },
     "execution_count": 3,
     "metadata": {},
     "output_type": "execute_result"
    }
   ],
   "source": [
    "df.head()"
   ]
  },
  {
   "cell_type": "code",
   "execution_count": 4,
   "id": "b5b8e86f",
   "metadata": {},
   "outputs": [
    {
     "name": "stdout",
     "output_type": "stream",
     "text": [
      "<class 'pandas.core.frame.DataFrame'>\n",
      "RangeIndex: 303 entries, 0 to 302\n",
      "Data columns (total 14 columns):\n",
      " #   Column    Non-Null Count  Dtype  \n",
      "---  ------    --------------  -----  \n",
      " 0   age       303 non-null    int64  \n",
      " 1   sex       303 non-null    int64  \n",
      " 2   cp        303 non-null    int64  \n",
      " 3   trestbps  303 non-null    int64  \n",
      " 4   chol      303 non-null    int64  \n",
      " 5   fbs       303 non-null    int64  \n",
      " 6   restecg   303 non-null    int64  \n",
      " 7   thalach   303 non-null    int64  \n",
      " 8   exang     303 non-null    int64  \n",
      " 9   oldpeak   303 non-null    float64\n",
      " 10  slope     303 non-null    int64  \n",
      " 11  ca        303 non-null    int64  \n",
      " 12  thal      303 non-null    int64  \n",
      " 13  target    303 non-null    int64  \n",
      "dtypes: float64(1), int64(13)\n",
      "memory usage: 33.3 KB\n"
     ]
    }
   ],
   "source": [
    "df.info()"
   ]
  },
  {
   "cell_type": "code",
   "execution_count": 5,
   "id": "a6cc6043",
   "metadata": {},
   "outputs": [
    {
     "data": {
      "text/plain": [
       "Index(['age', 'sex', 'cp', 'trestbps', 'chol', 'fbs', 'restecg', 'thalach',\n",
       "       'exang', 'oldpeak', 'slope', 'ca', 'thal', 'target'],\n",
       "      dtype='object')"
      ]
     },
     "execution_count": 5,
     "metadata": {},
     "output_type": "execute_result"
    }
   ],
   "source": [
    "df.columns"
   ]
  },
  {
   "cell_type": "code",
   "execution_count": 6,
   "id": "57bc7912",
   "metadata": {},
   "outputs": [
    {
     "data": {
      "text/plain": [
       "age         0\n",
       "sex         0\n",
       "cp          0\n",
       "trestbps    0\n",
       "chol        0\n",
       "fbs         0\n",
       "restecg     0\n",
       "thalach     0\n",
       "exang       0\n",
       "oldpeak     0\n",
       "slope       0\n",
       "ca          0\n",
       "thal        0\n",
       "target      0\n",
       "dtype: int64"
      ]
     },
     "execution_count": 6,
     "metadata": {},
     "output_type": "execute_result"
    }
   ],
   "source": [
    "df.isnull().sum()"
   ]
  },
  {
   "cell_type": "markdown",
   "id": "638362d2",
   "metadata": {},
   "source": [
    "# splitting data"
   ]
  },
  {
   "cell_type": "code",
   "execution_count": 10,
   "id": "313cc40f",
   "metadata": {},
   "outputs": [],
   "source": [
    "x=df.drop(['target'],axis=1)\n",
    "y=df['target']"
   ]
  },
  {
   "cell_type": "code",
   "execution_count": 11,
   "id": "f15c18b8",
   "metadata": {},
   "outputs": [],
   "source": [
    "from sklearn.model_selection import train_test_split\n",
    "x_train , x_test , y_train , y_test = train_test_split(x,y,test_size=0.2,random_state=42)"
   ]
  },
  {
   "cell_type": "code",
   "execution_count": 12,
   "id": "1d8050e7",
   "metadata": {},
   "outputs": [
    {
     "data": {
      "text/plain": [
       "array([1, 0], dtype=int64)"
      ]
     },
     "execution_count": 12,
     "metadata": {},
     "output_type": "execute_result"
    }
   ],
   "source": [
    "df['target'].unique()"
   ]
  },
  {
   "cell_type": "code",
   "execution_count": 13,
   "id": "75a91c17",
   "metadata": {},
   "outputs": [
    {
     "data": {
      "text/plain": [
       "242"
      ]
     },
     "execution_count": 13,
     "metadata": {},
     "output_type": "execute_result"
    }
   ],
   "source": [
    "len(x_train)"
   ]
  },
  {
   "cell_type": "code",
   "execution_count": 14,
   "id": "80f5300c",
   "metadata": {},
   "outputs": [
    {
     "data": {
      "text/plain": [
       "61"
      ]
     },
     "execution_count": 14,
     "metadata": {},
     "output_type": "execute_result"
    }
   ],
   "source": [
    "len(x_test)"
   ]
  },
  {
   "cell_type": "code",
   "execution_count": 15,
   "id": "92e74a1e",
   "metadata": {},
   "outputs": [
    {
     "data": {
      "text/plain": [
       "61"
      ]
     },
     "execution_count": 15,
     "metadata": {},
     "output_type": "execute_result"
    }
   ],
   "source": [
    "len(y_test)"
   ]
  },
  {
   "cell_type": "code",
   "execution_count": 16,
   "id": "ae5a0676",
   "metadata": {},
   "outputs": [
    {
     "data": {
      "text/plain": [
       "242"
      ]
     },
     "execution_count": 16,
     "metadata": {},
     "output_type": "execute_result"
    }
   ],
   "source": [
    "len(y_train)"
   ]
  },
  {
   "cell_type": "markdown",
   "id": "d19a3c21",
   "metadata": {},
   "source": [
    "# Normalizing data"
   ]
  },
  {
   "cell_type": "code",
   "execution_count": 17,
   "id": "3be02410",
   "metadata": {},
   "outputs": [],
   "source": [
    "from sklearn.preprocessing import StandardScaler"
   ]
  },
  {
   "cell_type": "code",
   "execution_count": 18,
   "id": "76e03dd2",
   "metadata": {},
   "outputs": [],
   "source": [
    "sc = StandardScaler()"
   ]
  },
  {
   "cell_type": "code",
   "execution_count": 19,
   "id": "7e1a8ec0",
   "metadata": {},
   "outputs": [],
   "source": [
    "cols = x_train.columns\n",
    "sc_x_train = sc.fit_transform(x_train)\n",
    "sc_x_train = pd.DataFrame(sc_x_train , columns = cols)\n",
    "sc_x_test = sc.fit_transform(x_test)\n",
    "sc_x_test = pd.DataFrame(sc_x_test , columns = cols)"
   ]
  },
  {
   "cell_type": "code",
   "execution_count": 20,
   "id": "df2b4472",
   "metadata": {},
   "outputs": [
    {
     "data": {
      "text/html": [
       "<div>\n",
       "<style scoped>\n",
       "    .dataframe tbody tr th:only-of-type {\n",
       "        vertical-align: middle;\n",
       "    }\n",
       "\n",
       "    .dataframe tbody tr th {\n",
       "        vertical-align: top;\n",
       "    }\n",
       "\n",
       "    .dataframe thead th {\n",
       "        text-align: right;\n",
       "    }\n",
       "</style>\n",
       "<table border=\"1\" class=\"dataframe\">\n",
       "  <thead>\n",
       "    <tr style=\"text-align: right;\">\n",
       "      <th></th>\n",
       "      <th>age</th>\n",
       "      <th>sex</th>\n",
       "      <th>cp</th>\n",
       "      <th>trestbps</th>\n",
       "      <th>chol</th>\n",
       "      <th>fbs</th>\n",
       "      <th>restecg</th>\n",
       "      <th>thalach</th>\n",
       "      <th>exang</th>\n",
       "      <th>oldpeak</th>\n",
       "      <th>slope</th>\n",
       "      <th>ca</th>\n",
       "      <th>thal</th>\n",
       "    </tr>\n",
       "  </thead>\n",
       "  <tbody>\n",
       "    <tr>\n",
       "      <th>0</th>\n",
       "      <td>-1.356798</td>\n",
       "      <td>0.722504</td>\n",
       "      <td>0.008099</td>\n",
       "      <td>-0.616856</td>\n",
       "      <td>0.914034</td>\n",
       "      <td>-0.383301</td>\n",
       "      <td>0.843133</td>\n",
       "      <td>0.532781</td>\n",
       "      <td>-0.676632</td>\n",
       "      <td>-0.920864</td>\n",
       "      <td>0.953905</td>\n",
       "      <td>-0.689701</td>\n",
       "      <td>-0.509048</td>\n",
       "    </tr>\n",
       "    <tr>\n",
       "      <th>1</th>\n",
       "      <td>0.385086</td>\n",
       "      <td>0.722504</td>\n",
       "      <td>-0.971891</td>\n",
       "      <td>1.169491</td>\n",
       "      <td>0.439527</td>\n",
       "      <td>-0.383301</td>\n",
       "      <td>-1.046109</td>\n",
       "      <td>-1.753582</td>\n",
       "      <td>1.477907</td>\n",
       "      <td>-0.193787</td>\n",
       "      <td>0.953905</td>\n",
       "      <td>-0.689701</td>\n",
       "      <td>1.178480</td>\n",
       "    </tr>\n",
       "    <tr>\n",
       "      <th>2</th>\n",
       "      <td>-0.921327</td>\n",
       "      <td>0.722504</td>\n",
       "      <td>0.988089</td>\n",
       "      <td>1.169491</td>\n",
       "      <td>-0.300704</td>\n",
       "      <td>-0.383301</td>\n",
       "      <td>0.843133</td>\n",
       "      <td>-0.139679</td>\n",
       "      <td>-0.676632</td>\n",
       "      <td>2.350982</td>\n",
       "      <td>-0.694988</td>\n",
       "      <td>-0.689701</td>\n",
       "      <td>-0.509048</td>\n",
       "    </tr>\n",
       "    <tr>\n",
       "      <th>3</th>\n",
       "      <td>0.058483</td>\n",
       "      <td>-1.384075</td>\n",
       "      <td>0.008099</td>\n",
       "      <td>0.276318</td>\n",
       "      <td>0.059921</td>\n",
       "      <td>-0.383301</td>\n",
       "      <td>-1.046109</td>\n",
       "      <td>0.487950</td>\n",
       "      <td>-0.676632</td>\n",
       "      <td>0.351521</td>\n",
       "      <td>-0.694988</td>\n",
       "      <td>-0.689701</td>\n",
       "      <td>-0.509048</td>\n",
       "    </tr>\n",
       "    <tr>\n",
       "      <th>4</th>\n",
       "      <td>0.602822</td>\n",
       "      <td>0.722504</td>\n",
       "      <td>-0.971891</td>\n",
       "      <td>-0.795490</td>\n",
       "      <td>-0.319684</td>\n",
       "      <td>2.608918</td>\n",
       "      <td>0.843133</td>\n",
       "      <td>0.443119</td>\n",
       "      <td>1.477907</td>\n",
       "      <td>0.351521</td>\n",
       "      <td>0.953905</td>\n",
       "      <td>1.333421</td>\n",
       "      <td>1.178480</td>\n",
       "    </tr>\n",
       "  </tbody>\n",
       "</table>\n",
       "</div>"
      ],
      "text/plain": [
       "        age       sex        cp  trestbps      chol       fbs   restecg  \\\n",
       "0 -1.356798  0.722504  0.008099 -0.616856  0.914034 -0.383301  0.843133   \n",
       "1  0.385086  0.722504 -0.971891  1.169491  0.439527 -0.383301 -1.046109   \n",
       "2 -0.921327  0.722504  0.988089  1.169491 -0.300704 -0.383301  0.843133   \n",
       "3  0.058483 -1.384075  0.008099  0.276318  0.059921 -0.383301 -1.046109   \n",
       "4  0.602822  0.722504 -0.971891 -0.795490 -0.319684  2.608918  0.843133   \n",
       "\n",
       "    thalach     exang   oldpeak     slope        ca      thal  \n",
       "0  0.532781 -0.676632 -0.920864  0.953905 -0.689701 -0.509048  \n",
       "1 -1.753582  1.477907 -0.193787  0.953905 -0.689701  1.178480  \n",
       "2 -0.139679 -0.676632  2.350982 -0.694988 -0.689701 -0.509048  \n",
       "3  0.487950 -0.676632  0.351521 -0.694988 -0.689701 -0.509048  \n",
       "4  0.443119  1.477907  0.351521  0.953905  1.333421  1.178480  "
      ]
     },
     "execution_count": 20,
     "metadata": {},
     "output_type": "execute_result"
    }
   ],
   "source": [
    "sc_x_train.head()"
   ]
  },
  {
   "cell_type": "code",
   "execution_count": 21,
   "id": "e2c45cbd",
   "metadata": {},
   "outputs": [
    {
     "data": {
      "text/html": [
       "<div>\n",
       "<style scoped>\n",
       "    .dataframe tbody tr th:only-of-type {\n",
       "        vertical-align: middle;\n",
       "    }\n",
       "\n",
       "    .dataframe tbody tr th {\n",
       "        vertical-align: top;\n",
       "    }\n",
       "\n",
       "    .dataframe thead th {\n",
       "        text-align: right;\n",
       "    }\n",
       "</style>\n",
       "<table border=\"1\" class=\"dataframe\">\n",
       "  <thead>\n",
       "    <tr style=\"text-align: right;\">\n",
       "      <th></th>\n",
       "      <th>age</th>\n",
       "      <th>sex</th>\n",
       "      <th>cp</th>\n",
       "      <th>trestbps</th>\n",
       "      <th>chol</th>\n",
       "      <th>fbs</th>\n",
       "      <th>restecg</th>\n",
       "      <th>thalach</th>\n",
       "      <th>exang</th>\n",
       "      <th>oldpeak</th>\n",
       "      <th>slope</th>\n",
       "      <th>ca</th>\n",
       "      <th>thal</th>\n",
       "    </tr>\n",
       "  </thead>\n",
       "  <tbody>\n",
       "    <tr>\n",
       "      <th>0</th>\n",
       "      <td>0.351938</td>\n",
       "      <td>0.520416</td>\n",
       "      <td>-0.817224</td>\n",
       "      <td>0.692351</td>\n",
       "      <td>0.670699</td>\n",
       "      <td>-0.545777</td>\n",
       "      <td>-0.861892</td>\n",
       "      <td>-1.438221</td>\n",
       "      <td>1.285369</td>\n",
       "      <td>-0.399336</td>\n",
       "      <td>-0.485744</td>\n",
       "      <td>0.073151</td>\n",
       "      <td>-2.005978</td>\n",
       "    </tr>\n",
       "    <tr>\n",
       "      <th>1</th>\n",
       "      <td>0.585288</td>\n",
       "      <td>0.520416</td>\n",
       "      <td>2.004512</td>\n",
       "      <td>1.728753</td>\n",
       "      <td>0.921953</td>\n",
       "      <td>-0.545777</td>\n",
       "      <td>-0.861892</td>\n",
       "      <td>0.450638</td>\n",
       "      <td>-0.777987</td>\n",
       "      <td>-0.692823</td>\n",
       "      <td>-0.485744</td>\n",
       "      <td>-0.819288</td>\n",
       "      <td>0.942568</td>\n",
       "    </tr>\n",
       "    <tr>\n",
       "      <th>2</th>\n",
       "      <td>0.351938</td>\n",
       "      <td>0.520416</td>\n",
       "      <td>1.063933</td>\n",
       "      <td>0.692351</td>\n",
       "      <td>-2.469984</td>\n",
       "      <td>1.832251</td>\n",
       "      <td>1.160239</td>\n",
       "      <td>1.013277</td>\n",
       "      <td>-0.777987</td>\n",
       "      <td>-0.692823</td>\n",
       "      <td>1.073751</td>\n",
       "      <td>0.073151</td>\n",
       "      <td>0.942568</td>\n",
       "    </tr>\n",
       "    <tr>\n",
       "      <th>3</th>\n",
       "      <td>0.235263</td>\n",
       "      <td>-1.921538</td>\n",
       "      <td>-0.817224</td>\n",
       "      <td>-0.136771</td>\n",
       "      <td>3.455437</td>\n",
       "      <td>-0.545777</td>\n",
       "      <td>-0.861892</td>\n",
       "      <td>0.088942</td>\n",
       "      <td>1.285369</td>\n",
       "      <td>0.554499</td>\n",
       "      <td>-0.485744</td>\n",
       "      <td>0.965589</td>\n",
       "      <td>0.942568</td>\n",
       "    </tr>\n",
       "    <tr>\n",
       "      <th>4</th>\n",
       "      <td>1.985390</td>\n",
       "      <td>-1.921538</td>\n",
       "      <td>1.063933</td>\n",
       "      <td>-1.380454</td>\n",
       "      <td>0.440382</td>\n",
       "      <td>1.832251</td>\n",
       "      <td>-0.861892</td>\n",
       "      <td>-0.714828</td>\n",
       "      <td>-0.777987</td>\n",
       "      <td>-0.839567</td>\n",
       "      <td>1.073751</td>\n",
       "      <td>0.073151</td>\n",
       "      <td>-0.531705</td>\n",
       "    </tr>\n",
       "  </tbody>\n",
       "</table>\n",
       "</div>"
      ],
      "text/plain": [
       "        age       sex        cp  trestbps      chol       fbs   restecg  \\\n",
       "0  0.351938  0.520416 -0.817224  0.692351  0.670699 -0.545777 -0.861892   \n",
       "1  0.585288  0.520416  2.004512  1.728753  0.921953 -0.545777 -0.861892   \n",
       "2  0.351938  0.520416  1.063933  0.692351 -2.469984  1.832251  1.160239   \n",
       "3  0.235263 -1.921538 -0.817224 -0.136771  3.455437 -0.545777 -0.861892   \n",
       "4  1.985390 -1.921538  1.063933 -1.380454  0.440382  1.832251 -0.861892   \n",
       "\n",
       "    thalach     exang   oldpeak     slope        ca      thal  \n",
       "0 -1.438221  1.285369 -0.399336 -0.485744  0.073151 -2.005978  \n",
       "1  0.450638 -0.777987 -0.692823 -0.485744 -0.819288  0.942568  \n",
       "2  1.013277 -0.777987 -0.692823  1.073751  0.073151  0.942568  \n",
       "3  0.088942  1.285369  0.554499 -0.485744  0.965589  0.942568  \n",
       "4 -0.714828 -0.777987 -0.839567  1.073751  0.073151 -0.531705  "
      ]
     },
     "execution_count": 21,
     "metadata": {},
     "output_type": "execute_result"
    }
   ],
   "source": [
    "sc_x_test.head()"
   ]
  },
  {
   "cell_type": "markdown",
   "id": "90ebd005",
   "metadata": {},
   "source": [
    "# Applying model"
   ]
  },
  {
   "cell_type": "code",
   "execution_count": 59,
   "id": "5b515723",
   "metadata": {},
   "outputs": [],
   "source": [
    "accuracy = []"
   ]
  },
  {
   "cell_type": "code",
   "execution_count": 61,
   "id": "79bf32d7",
   "metadata": {},
   "outputs": [
    {
     "name": "stdout",
     "output_type": "stream",
     "text": [
      "0.8360655737704918\n"
     ]
    }
   ],
   "source": [
    "from sklearn.ensemble import RandomForestClassifier\n",
    "from sklearn.metrics import accuracy_score\n",
    "\n",
    "rf = RandomForestClassifier()\n",
    "rf.fit(sc_x_train , y_train)\n",
    "pred = rf.predict(sc_x_test)\n",
    "accuracy.append(accuracy_score(pred , y_test))\n",
    "print(accuracy_score(pred , y_test))"
   ]
  },
  {
   "cell_type": "code",
   "execution_count": 62,
   "id": "4f1a0ff4",
   "metadata": {},
   "outputs": [
    {
     "name": "stdout",
     "output_type": "stream",
     "text": [
      "0.8032786885245902\n"
     ]
    }
   ],
   "source": [
    "from sklearn.ensemble import GradientBoostingClassifier\n",
    "\n",
    "gboosting = GradientBoostingClassifier()\n",
    "gboosting.fit(sc_x_train , y_train)\n",
    "pred = gboosting.predict(sc_x_test)\n",
    "accuracy.append(accuracy_score(pred , y_test))\n",
    "print(accuracy_score(pred , y_test))"
   ]
  },
  {
   "cell_type": "code",
   "execution_count": 63,
   "id": "3baf566b",
   "metadata": {},
   "outputs": [
    {
     "name": "stdout",
     "output_type": "stream",
     "text": [
      "0.819672131147541\n"
     ]
    }
   ],
   "source": [
    "from xgboost import XGBClassifier\n",
    "\n",
    "model7 = XGBClassifier()\n",
    "model7.fit(x_train, y_train)\n",
    "pred = model7.predict(x_test)\n",
    "accuracy.append(accuracy_score(pred , y_test))\n",
    "print(accuracy_score(pred , y_test))"
   ]
  },
  {
   "cell_type": "code",
   "execution_count": 64,
   "id": "d778a17c",
   "metadata": {},
   "outputs": [
    {
     "name": "stdout",
     "output_type": "stream",
     "text": [
      "0.819672131147541\n"
     ]
    }
   ],
   "source": [
    "from sklearn.ensemble import AdaBoostClassifier\n",
    "\n",
    "ab = AdaBoostClassifier()\n",
    "ab.fit(sc_x_train , y_train)\n",
    "pred=ab.predict(sc_x_test)\n",
    "accuracy.append(accuracy_score(pred , y_test))\n",
    "print(accuracy_score(pred , y_test))"
   ]
  },
  {
   "cell_type": "code",
   "execution_count": 66,
   "id": "1af37270",
   "metadata": {},
   "outputs": [],
   "source": [
    "models_name =['Random Forest Classifier','Gradient Boost Classifer','Xg Boost Classifier','Ada Boost Classifier']"
   ]
  },
  {
   "cell_type": "code",
   "execution_count": 73,
   "id": "2cfd9f9f",
   "metadata": {},
   "outputs": [
    {
     "data": {
      "text/html": [
       "<div>\n",
       "<style scoped>\n",
       "    .dataframe tbody tr th:only-of-type {\n",
       "        vertical-align: middle;\n",
       "    }\n",
       "\n",
       "    .dataframe tbody tr th {\n",
       "        vertical-align: top;\n",
       "    }\n",
       "\n",
       "    .dataframe thead th {\n",
       "        text-align: right;\n",
       "    }\n",
       "</style>\n",
       "<table border=\"1\" class=\"dataframe\">\n",
       "  <thead>\n",
       "    <tr style=\"text-align: right;\">\n",
       "      <th></th>\n",
       "      <th>Models Names</th>\n",
       "      <th>Accuracy Scores</th>\n",
       "    </tr>\n",
       "  </thead>\n",
       "  <tbody>\n",
       "    <tr>\n",
       "      <th>0</th>\n",
       "      <td>Random Forest Classifier</td>\n",
       "      <td>0.836066</td>\n",
       "    </tr>\n",
       "    <tr>\n",
       "      <th>1</th>\n",
       "      <td>Gradient Boost Classifer</td>\n",
       "      <td>0.803279</td>\n",
       "    </tr>\n",
       "    <tr>\n",
       "      <th>2</th>\n",
       "      <td>Xg Boost Classifier</td>\n",
       "      <td>0.819672</td>\n",
       "    </tr>\n",
       "    <tr>\n",
       "      <th>3</th>\n",
       "      <td>Ada Boost Classifier</td>\n",
       "      <td>0.819672</td>\n",
       "    </tr>\n",
       "  </tbody>\n",
       "</table>\n",
       "</div>"
      ],
      "text/plain": [
       "               Models Names  Accuracy Scores\n",
       "0  Random Forest Classifier         0.836066\n",
       "1  Gradient Boost Classifer         0.803279\n",
       "2       Xg Boost Classifier         0.819672\n",
       "3      Ada Boost Classifier         0.819672"
      ]
     },
     "execution_count": 73,
     "metadata": {},
     "output_type": "execute_result"
    }
   ],
   "source": [
    "comparison = pd.DataFrame()\n",
    "comparison['Models Names']=models_name\n",
    "comparison['Accuracy Scores']=accuracy\n",
    "comparison"
   ]
  },
  {
   "cell_type": "code",
   "execution_count": null,
   "id": "f4ddcf38",
   "metadata": {},
   "outputs": [],
   "source": []
  }
 ],
 "metadata": {
  "kernelspec": {
   "display_name": "Python 3 (ipykernel)",
   "language": "python",
   "name": "python3"
  },
  "language_info": {
   "codemirror_mode": {
    "name": "ipython",
    "version": 3
   },
   "file_extension": ".py",
   "mimetype": "text/x-python",
   "name": "python",
   "nbconvert_exporter": "python",
   "pygments_lexer": "ipython3",
   "version": "3.10.9"
  }
 },
 "nbformat": 4,
 "nbformat_minor": 5
}
